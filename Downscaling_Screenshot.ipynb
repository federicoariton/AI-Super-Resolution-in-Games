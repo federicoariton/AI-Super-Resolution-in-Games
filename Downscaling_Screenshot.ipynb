{
 "cells": [
  {
   "cell_type": "markdown",
   "id": "4fecbca4-e79b-4bf9-9174-94afe60b9d26",
   "metadata": {},
   "source": [
    "# Federico Ariton\n",
    "# Master of science in Data Analytics\n",
    "# Semester 2 - CA1 Integreated\n",
    "# Student Number: sba22090"
   ]
  },
  {
   "cell_type": "code",
   "execution_count": 1,
   "id": "411bc315-1d93-4771-92fa-401c6ed50d9e",
   "metadata": {},
   "outputs": [
    {
     "name": "stdout",
     "output_type": "stream",
     "text": [
      "Requirement already satisfied: opencv-python in /home/hduser/my-jupyter-env/lib/python3.12/site-packages (4.11.0.86)\n",
      "Requirement already satisfied: pillow in /home/hduser/my-jupyter-env/lib/python3.12/site-packages (11.1.0)\n",
      "Requirement already satisfied: numpy>=1.21.2 in /home/hduser/my-jupyter-env/lib/python3.12/site-packages (from opencv-python) (2.1.3)\n",
      "Note: you may need to restart the kernel to use updated packages.\n"
     ]
    }
   ],
   "source": [
    "pip install opencv-python pillow\n"
   ]
  },
  {
   "cell_type": "markdown",
   "id": "da49b830-6d4d-4af9-8f43-6acc5b0e4786",
   "metadata": {},
   "source": [
    "# Ranaming the sceenshots"
   ]
  },
  {
   "cell_type": "code",
   "execution_count": 1,
   "id": "85ff5820-41d6-439d-8913-704835e231f5",
   "metadata": {},
   "outputs": [
    {
     "name": "stdout",
     "output_type": "stream",
     "text": [
      "Screenshots renamed in order.\n"
     ]
    }
   ],
   "source": [
    "import os\n",
    "\n",
    "# Path to your screenshot folder\n",
    "folder_path = \"screenshots_hr\"  # Change this to your actual folder\n",
    "\n",
    "# Get all image files (sorted alphabetically or by creation time)\n",
    "image_files = sorted(\n",
    "    [f for f in os.listdir(folder_path) if f.lower().endswith(('.png', '.jpg', '.jpeg'))],\n",
    "    key=lambda x: os.path.getctime(os.path.join(folder_path, x))\n",
    ")\n",
    "\n",
    "# Rename files to Screenshot_1.png, Screenshot_2.png, etc.\n",
    "for i, filename in enumerate(image_files, start=1):\n",
    "    ext = os.path.splitext(filename)[1].lower()\n",
    "    new_name = f\"Screenshot_{i}{ext}\"\n",
    "    src = os.path.join(folder_path, filename)\n",
    "    dst = os.path.join(folder_path, new_name)\n",
    "\n",
    "    os.rename(src, dst)\n",
    "\n",
    "print(\"Screenshots renamed in order.\")\n",
    "\n"
   ]
  },
  {
   "cell_type": "markdown",
   "id": "7e27762b-8803-4ef5-8806-56e1a229a956",
   "metadata": {},
   "source": [
    "# Dowscaling the screenshot to 4x"
   ]
  },
  {
   "cell_type": "code",
   "execution_count": 2,
   "id": "558c9605-2bf9-43ac-acc8-7861f2fd63c8",
   "metadata": {},
   "outputs": [
    {
     "name": "stdout",
     "output_type": "stream",
     "text": [
      "Downscaling complete.\n"
     ]
    }
   ],
   "source": [
    "import os\n",
    "from PIL import Image\n",
    "\n",
    "# Paths\n",
    "input_folder = \"screenshots_hr\"\n",
    "output_folder = \"screenshots_lr\"\n",
    "scale_factor = 4  # Downscale factor (e.g., 2x, 4x)\n",
    "\n",
    "# Ensure output folder exists\n",
    "os.makedirs(output_folder, exist_ok=True)\n",
    "\n",
    "# Process each image\n",
    "for filename in os.listdir(input_folder):\n",
    "    if filename.endswith(('.png', '.jpg', '.jpeg')):\n",
    "        img_path = os.path.join(input_folder, filename)\n",
    "        img = Image.open(img_path).convert(\"RGB\")\n",
    "        \n",
    "        # Calculate new size\n",
    "        new_size = (img.width // scale_factor, img.height // scale_factor)\n",
    "        \n",
    "        # Downscale using bicubic interpolation\n",
    "        img_lr = img.resize(new_size, resample=Image.BICUBIC)\n",
    "        \n",
    "        # Save LR image\n",
    "        output_path = os.path.join(output_folder, filename)\n",
    "        img_lr.save(output_path)\n",
    "\n",
    "print(\"Downscaling complete.\")\n"
   ]
  },
  {
   "cell_type": "code",
   "execution_count": null,
   "id": "f5d1a397-f532-45e0-b826-72a2393bc629",
   "metadata": {},
   "outputs": [],
   "source": []
  }
 ],
 "metadata": {
  "kernelspec": {
   "display_name": "Python 3 (ipykernel)",
   "language": "python",
   "name": "python3"
  },
  "language_info": {
   "codemirror_mode": {
    "name": "ipython",
    "version": 3
   },
   "file_extension": ".py",
   "mimetype": "text/x-python",
   "name": "python",
   "nbconvert_exporter": "python",
   "pygments_lexer": "ipython3",
   "version": "3.12.3"
  }
 },
 "nbformat": 4,
 "nbformat_minor": 5
}
